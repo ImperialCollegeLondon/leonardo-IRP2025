{
 "cells": [
  {
   "cell_type": "markdown",
   "metadata": {},
   "source": [
    "# Leonardo - IRP 2025"
   ]
  },
  {
   "cell_type": "markdown",
   "metadata": {},
   "source": [
    "## First steps\n",
    "- Get access to Imperial GitHub Enterprise account (instructions [here](https://imperialcollegelondon.github.io/#how-do-i-gain-access-to-github-enterprise-cloud))\n",
    "- Access MS Team data sharing folder\n",
    "- Get acquainted with the data you will use\n",
    "- Work in your projects repository\n",
    "\n",
    "I use `uv`, `polars` and `ruff` instead of `pip`, `pandas` and another linter. I recommend them, but shifting your framework is not mandatory.\n",
    "\n",
    "### Best Practices:\n",
    "- use `.env` for portability and sensitive information\n",
    "- Never commit the `.env` file! You can use the `.env.sample` to fix unpopullated fields\n",
    "- Datasets will be shared via OneDrive. PDFs via an S3-type of bucket. Use the `s3fs` library to access it."
   ]
  },
  {
   "cell_type": "markdown",
   "metadata": {},
   "source": [
    "## Three types of data\n",
    "- Raw PDFs\n",
    "- Text of initiatives\n",
    "- Counts"
   ]
  },
  {
   "cell_type": "markdown",
   "metadata": {},
   "source": [
    "# Getting familiar with the dataset"
   ]
  },
  {
   "cell_type": "code",
   "execution_count": 1,
   "metadata": {},
   "outputs": [],
   "source": [
    "import polars as pl\n",
    "from dotenv import dotenv_values\n",
    "import json\n",
    "\n",
    "env_vars = dotenv_values(\"../.env\")\n",
    "DATA_PATH = env_vars[\"DATA_PATH\"]\n",
    "\n",
    "lc_dataset = pl.read_csv(f\"{DATA_PATH}/LC_dataset_v_1_1O.csv\")\n",
    "text_of_initiatives = pl.read_parquet(f\"{DATA_PATH}/text_of_initiatives_v_1_1L.parquet\")"
   ]
  },
  {
   "cell_type": "code",
   "execution_count": 40,
   "metadata": {},
   "outputs": [
    {
     "data": {
      "text/html": [
       "<div><style>\n",
       ".dataframe > thead > tr,\n",
       ".dataframe > tbody > tr {\n",
       "  text-align: right;\n",
       "  white-space: pre-wrap;\n",
       "}\n",
       "</style>\n",
       "<small>shape: (5, 13)</small><table border=\"1\" class=\"dataframe\"><thead><tr><th>id</th><th>action</th><th>sdg</th><th>Stakeholder</th><th>full_text</th><th>country</th><th>MacroRegion</th><th>Sector</th><th>Industry-group</th><th>Industry</th><th>Universe</th><th>company_name</th><th>rfyear</th></tr><tr><td>str</td><td>str</td><td>i32</td><td>str</td><td>str</td><td>str</td><td>str</td><td>str</td><td>str</td><td>str</td><td>str</td><td>str</td><td>str</td></tr></thead><tbody><tr><td>&quot;319310_2021_606hh7g0109rim_ozd…</td><td>&quot;modification of procedures&quot;</td><td>12</td><td>&quot;local communities and society&quot;</td><td>&quot;Always with a view to making a…</td><td>&quot;Italy&quot;</td><td>null</td><td>&quot;Consumer Discretionary&quot;</td><td>&quot;Consumer Durables &amp; Apparel&quot;</td><td>&quot;Textiles, Apparel &amp; Luxury Goo…</td><td>&quot;Public&quot;</td><td>&quot;OVS Officine Valle Seriana Spa&quot;</td><td>&quot;2021&quot;</td></tr><tr><td>&quot;319310_2021_606hh7g0109rim_rcv…</td><td>&quot;association&quot;</td><td>12</td><td>&quot;local communities and society&quot;</td><td>&quot;we made more than 58 million g…</td><td>&quot;Italy&quot;</td><td>null</td><td>&quot;Consumer Discretionary&quot;</td><td>&quot;Consumer Durables &amp; Apparel&quot;</td><td>&quot;Textiles, Apparel &amp; Luxury Goo…</td><td>&quot;Public&quot;</td><td>&quot;OVS Officine Valle Seriana Spa&quot;</td><td>&quot;2021&quot;</td></tr><tr><td>&quot;319310_2021_606hh7g0109rim_hfs…</td><td>&quot;new products&quot;</td><td>12</td><td>&quot;local communities and society&quot;</td><td>&quot;Less is better is our circular…</td><td>&quot;Italy&quot;</td><td>null</td><td>&quot;Consumer Discretionary&quot;</td><td>&quot;Consumer Durables &amp; Apparel&quot;</td><td>&quot;Textiles, Apparel &amp; Luxury Goo…</td><td>&quot;Public&quot;</td><td>&quot;OVS Officine Valle Seriana Spa&quot;</td><td>&quot;2021&quot;</td></tr><tr><td>&quot;319310_2021_606hh7g0109rim_fss…</td><td>&quot;communication&quot;</td><td>12</td><td>&quot;local communities and society&quot;</td><td>&quot;Life Cycle Assessment LCA anal…</td><td>&quot;Italy&quot;</td><td>null</td><td>&quot;Consumer Discretionary&quot;</td><td>&quot;Consumer Durables &amp; Apparel&quot;</td><td>&quot;Textiles, Apparel &amp; Luxury Goo…</td><td>&quot;Public&quot;</td><td>&quot;OVS Officine Valle Seriana Spa&quot;</td><td>&quot;2021&quot;</td></tr><tr><td>&quot;319310_2021_606hh7g0109rim_npv…</td><td>&quot;incentives&quot;</td><td>12</td><td>&quot;local communities and society&quot;</td><td>&quot;Rewarding improvement The comm…</td><td>&quot;Italy&quot;</td><td>null</td><td>&quot;Consumer Discretionary&quot;</td><td>&quot;Consumer Durables &amp; Apparel&quot;</td><td>&quot;Textiles, Apparel &amp; Luxury Goo…</td><td>&quot;Public&quot;</td><td>&quot;OVS Officine Valle Seriana Spa&quot;</td><td>&quot;2021&quot;</td></tr></tbody></table></div>"
      ],
      "text/plain": [
       "shape: (5, 13)\n",
       "┌─────────────┬─────────────┬─────┬─────────────┬───┬─────────────┬──────────┬────────────┬────────┐\n",
       "│ id          ┆ action      ┆ sdg ┆ Stakeholder ┆ … ┆ Industry    ┆ Universe ┆ company_na ┆ rfyear │\n",
       "│ ---         ┆ ---         ┆ --- ┆ ---         ┆   ┆ ---         ┆ ---      ┆ me         ┆ ---    │\n",
       "│ str         ┆ str         ┆ i32 ┆ str         ┆   ┆ str         ┆ str      ┆ ---        ┆ str    │\n",
       "│             ┆             ┆     ┆             ┆   ┆             ┆          ┆ str        ┆        │\n",
       "╞═════════════╪═════════════╪═════╪═════════════╪═══╪═════════════╪══════════╪════════════╪════════╡\n",
       "│ 319310_2021 ┆ modificatio ┆ 12  ┆ local       ┆ … ┆ Textiles,   ┆ Public   ┆ OVS        ┆ 2021   │\n",
       "│ _606hh7g010 ┆ n of        ┆     ┆ communities ┆   ┆ Apparel &   ┆          ┆ Officine   ┆        │\n",
       "│ 9rim_ozd…   ┆ procedures  ┆     ┆ and society ┆   ┆ Luxury Goo… ┆          ┆ Valle      ┆        │\n",
       "│             ┆             ┆     ┆             ┆   ┆             ┆          ┆ Seriana    ┆        │\n",
       "│             ┆             ┆     ┆             ┆   ┆             ┆          ┆ Spa        ┆        │\n",
       "│ 319310_2021 ┆ association ┆ 12  ┆ local       ┆ … ┆ Textiles,   ┆ Public   ┆ OVS        ┆ 2021   │\n",
       "│ _606hh7g010 ┆             ┆     ┆ communities ┆   ┆ Apparel &   ┆          ┆ Officine   ┆        │\n",
       "│ 9rim_rcv…   ┆             ┆     ┆ and society ┆   ┆ Luxury Goo… ┆          ┆ Valle      ┆        │\n",
       "│             ┆             ┆     ┆             ┆   ┆             ┆          ┆ Seriana    ┆        │\n",
       "│             ┆             ┆     ┆             ┆   ┆             ┆          ┆ Spa        ┆        │\n",
       "│ 319310_2021 ┆ new         ┆ 12  ┆ local       ┆ … ┆ Textiles,   ┆ Public   ┆ OVS        ┆ 2021   │\n",
       "│ _606hh7g010 ┆ products    ┆     ┆ communities ┆   ┆ Apparel &   ┆          ┆ Officine   ┆        │\n",
       "│ 9rim_hfs…   ┆             ┆     ┆ and society ┆   ┆ Luxury Goo… ┆          ┆ Valle      ┆        │\n",
       "│             ┆             ┆     ┆             ┆   ┆             ┆          ┆ Seriana    ┆        │\n",
       "│             ┆             ┆     ┆             ┆   ┆             ┆          ┆ Spa        ┆        │\n",
       "│ 319310_2021 ┆ communicati ┆ 12  ┆ local       ┆ … ┆ Textiles,   ┆ Public   ┆ OVS        ┆ 2021   │\n",
       "│ _606hh7g010 ┆ on          ┆     ┆ communities ┆   ┆ Apparel &   ┆          ┆ Officine   ┆        │\n",
       "│ 9rim_fss…   ┆             ┆     ┆ and society ┆   ┆ Luxury Goo… ┆          ┆ Valle      ┆        │\n",
       "│             ┆             ┆     ┆             ┆   ┆             ┆          ┆ Seriana    ┆        │\n",
       "│             ┆             ┆     ┆             ┆   ┆             ┆          ┆ Spa        ┆        │\n",
       "│ 319310_2021 ┆ incentives  ┆ 12  ┆ local       ┆ … ┆ Textiles,   ┆ Public   ┆ OVS        ┆ 2021   │\n",
       "│ _606hh7g010 ┆             ┆     ┆ communities ┆   ┆ Apparel &   ┆          ┆ Officine   ┆        │\n",
       "│ 9rim_npv…   ┆             ┆     ┆ and society ┆   ┆ Luxury Goo… ┆          ┆ Valle      ┆        │\n",
       "│             ┆             ┆     ┆             ┆   ┆             ┆          ┆ Seriana    ┆        │\n",
       "│             ┆             ┆     ┆             ┆   ┆             ┆          ┆ Spa        ┆        │\n",
       "└─────────────┴─────────────┴─────┴─────────────┴───┴─────────────┴──────────┴────────────┴────────┘"
      ]
     },
     "execution_count": 40,
     "metadata": {},
     "output_type": "execute_result"
    }
   ],
   "source": [
    "text_of_initiatives.head()"
   ]
  },
  {
   "cell_type": "code",
   "execution_count": 38,
   "metadata": {},
   "outputs": [
    {
     "data": {
      "text/plain": [
       "[{'action': 'adoption of standards and rules', 'count': 3316},\n",
       " {'action': 'assessment and measurement', 'count': 53433},\n",
       " {'action': 'asset modification', 'count': 61230},\n",
       " {'action': 'association', 'count': 48614},\n",
       " {'action': 'communication', 'count': 101236},\n",
       " {'action': 'donation & funding', 'count': 258987},\n",
       " {'action': 'incentives', 'count': 13011},\n",
       " {'action': 'modification of procedures', 'count': 96695},\n",
       " {'action': 'new products', 'count': 21105},\n",
       " {'action': 'organizational structuring', 'count': 13290},\n",
       " {'action': 'pricing', 'count': 1300},\n",
       " {'action': 'r&d investments', 'count': 17975},\n",
       " {'action': 'training', 'count': 136602},\n",
       " {'action': 'volunteerism', 'count': 49274}]"
      ]
     },
     "execution_count": 38,
     "metadata": {},
     "output_type": "execute_result"
    }
   ],
   "source": [
    "text_of_initiatives[\"action\"].value_counts().sort(\"action\").to_dicts()"
   ]
  },
  {
   "cell_type": "markdown",
   "metadata": {},
   "source": [
    "## LC/GOLDEN Dataset"
   ]
  },
  {
   "cell_type": "code",
   "execution_count": 41,
   "metadata": {},
   "outputs": [
    {
     "data": {
      "text/html": [
       "<div><style>\n",
       ".dataframe > thead > tr,\n",
       ".dataframe > tbody > tr {\n",
       "  text-align: right;\n",
       "  white-space: pre-wrap;\n",
       "}\n",
       "</style>\n",
       "<small>shape: (5, 531)</small><table border=\"1\" class=\"dataframe\"><thead><tr><th>mrg</th><th>predicted_company_name</th><th>predicted_report_year</th><th>predicted_report_type</th><th>searched_company_name</th><th>search_rank</th><th>source</th><th>pdfurl</th><th>pdf_source_path</th><th>pdffilename</th><th>md5_fingerprint</th><th>TYPE: adoption of standards and rules</th><th>TYPE: assessment and measurement</th><th>TYPE: asset modification</th><th>TYPE: association</th><th>TYPE: communication</th><th>TYPE: donation &amp; funding</th><th>TYPE: incentives</th><th>TYPE: modification of procedures</th><th>TYPE: new products</th><th>TYPE: organizational structuring</th><th>TYPE: pricing</th><th>TYPE: r&amp;d investments</th><th>TYPE: training</th><th>TYPE: volunteerism</th><th>SDG: 1</th><th>SDG: 10</th><th>SDG: 11</th><th>SDG: 12</th><th>SDG: 13</th><th>SDG: 14</th><th>SDG: 15</th><th>SDG: 16</th><th>SDG: 17</th><th>SDG: 2</th><th>SDG: 3</th><th>SDG: 4</th><th>&hellip;</th><th>SDG_SREC: SDG 8 - nothing</th><th>SDG_SREC: SDG 8 - shareholders</th><th>SDG_SREC: SDG 8 - suppliers</th><th>SDG_SREC: SDG 9 - customers</th><th>SDG_SREC: SDG 9 - employees</th><th>SDG_SREC: SDG 9 - environment</th><th>SDG_SREC: SDG 9 - local communities and society</th><th>SDG_SREC: SDG 9 - nothing</th><th>SDG_SREC: SDG 9 - shareholders</th><th>SDG_SREC: SDG 9 - suppliers</th><th>number_of_initiatives</th><th>num_tokenised_sentences</th><th>pdf_local_path</th><th>pdf_local_path_relative</th><th>json_filename</th><th>gvkey</th><th>rfyear</th><th>mixed_cname</th><th>fyear</th><th>available_date</th><th>Title</th><th>report_fyear</th><th>Source_Language</th><th>pdf_file_name</th><th>Period From</th><th>Period To</th><th>ids</th><th>full_isin_list</th><th>data_type</th><th>addition_date</th><th>CR Report No</th><th>conml</th><th>GICS_level_1</th><th>GICS_level_2</th><th>GICS_level_3</th><th>loc</th><th>MacroRegion</th></tr><tr><td>str</td><td>str</td><td>f64</td><td>str</td><td>str</td><td>str</td><td>str</td><td>str</td><td>str</td><td>str</td><td>str</td><td>i64</td><td>i64</td><td>i64</td><td>i64</td><td>i64</td><td>i64</td><td>i64</td><td>i64</td><td>i64</td><td>i64</td><td>i64</td><td>i64</td><td>i64</td><td>i64</td><td>i64</td><td>i64</td><td>i64</td><td>i64</td><td>i64</td><td>i64</td><td>i64</td><td>i64</td><td>i64</td><td>i64</td><td>i64</td><td>i64</td><td>&hellip;</td><td>i64</td><td>i64</td><td>i64</td><td>i64</td><td>i64</td><td>i64</td><td>i64</td><td>i64</td><td>i64</td><td>i64</td><td>i64</td><td>i64</td><td>str</td><td>str</td><td>str</td><td>i64</td><td>i64</td><td>str</td><td>str</td><td>str</td><td>str</td><td>str</td><td>str</td><td>str</td><td>str</td><td>str</td><td>str</td><td>str</td><td>str</td><td>str</td><td>i64</td><td>str</td><td>str</td><td>str</td><td>str</td><td>str</td><td>str</td></tr></thead><tbody><tr><td>&quot;1300-2024&quot;</td><td>&quot;Honeywell International Inc&quot;</td><td>2024.0</td><td>&quot;sustainability report&quot;</td><td>null</td><td>null</td><td>&quot;manual_CR_apr2025&quot;</td><td>null</td><td>null</td><td>null</td><td>&quot;d72de293f5c82641acfdd9b7f98f79…</td><td>0</td><td>3</td><td>6</td><td>3</td><td>2</td><td>8</td><td>1</td><td>1</td><td>0</td><td>0</td><td>0</td><td>0</td><td>6</td><td>2</td><td>0</td><td>0</td><td>0</td><td>3</td><td>0</td><td>0</td><td>3</td><td>2</td><td>0</td><td>0</td><td>2</td><td>9</td><td>&hellip;</td><td>0</td><td>0</td><td>0</td><td>0</td><td>0</td><td>0</td><td>0</td><td>0</td><td>0</td><td>0</td><td>32</td><td>1967</td><td>&quot;/srv/data/mrei/davinci/cr_repo…</td><td>&quot;3112/235355-24Co-54131650T6219…</td><td>&quot;235355-24Co-54131650T621902052…</td><td>1300</td><td>2024</td><td>null</td><td>null</td><td>null</td><td>null</td><td>null</td><td>null</td><td>&quot;235355-24Co-54131650T621902052…</td><td>&quot;2023-01-01&quot;</td><td>&quot;2023-12-31&quot;</td><td>null</td><td>&quot;US4385161066,INE671A01010&quot;</td><td>&quot;Downloaded&quot;</td><td>&quot;0001-01-01&quot;</td><td>235355</td><td>&quot;Honeywell International Inc&quot;</td><td>&quot;Industrials&quot;</td><td>&quot;Capital Goods&quot;</td><td>&quot;Industrial Conglomerates&quot;</td><td>&quot;USA&quot;</td><td>&quot;United States and Canada&quot;</td></tr><tr><td>&quot;2269-2024&quot;</td><td>&quot;H &amp; R Block Inc&quot;</td><td>2024.0</td><td>&quot;sustainability report&quot;</td><td>null</td><td>null</td><td>&quot;manual_CR_apr2025&quot;</td><td>null</td><td>null</td><td>null</td><td>&quot;a48f8b70ccb99346f4c5ddf1328601…</td><td>0</td><td>3</td><td>0</td><td>2</td><td>1</td><td>15</td><td>0</td><td>4</td><td>1</td><td>0</td><td>0</td><td>0</td><td>7</td><td>5</td><td>1</td><td>0</td><td>4</td><td>8</td><td>0</td><td>1</td><td>0</td><td>3</td><td>0</td><td>3</td><td>4</td><td>8</td><td>&hellip;</td><td>0</td><td>0</td><td>0</td><td>0</td><td>0</td><td>0</td><td>0</td><td>0</td><td>0</td><td>0</td><td>38</td><td>870</td><td>&quot;/srv/data/mrei/davinci/cr_repo…</td><td>&quot;11720/234795-24SG-54002850I309…</td><td>&quot;234795-24SG-54002850I309873049…</td><td>2269</td><td>2024</td><td>null</td><td>null</td><td>null</td><td>null</td><td>null</td><td>null</td><td>&quot;234795-24SG-54002850I309873049…</td><td>null</td><td>null</td><td>null</td><td>&quot;US093662AF15,US0936711052,US40…</td><td>&quot;Downloaded&quot;</td><td>&quot;0001-01-01&quot;</td><td>234795</td><td>&quot;Block H&amp;R Inc&quot;</td><td>&quot;Consumer Discretionary&quot;</td><td>&quot;Consumer Services&quot;</td><td>&quot;Diversified Consumer Services&quot;</td><td>&quot;USA&quot;</td><td>&quot;United States and Canada&quot;</td></tr><tr><td>&quot;2285-2024&quot;</td><td>&quot;The Boeing Company&quot;</td><td>2024.0</td><td>&quot;sustainability report&quot;</td><td>null</td><td>null</td><td>&quot;manual_CR_apr2025&quot;</td><td>null</td><td>null</td><td>null</td><td>&quot;b7ca7f733c8199a9fc05dd9d771bc1…</td><td>0</td><td>0</td><td>0</td><td>5</td><td>1</td><td>18</td><td>0</td><td>3</td><td>0</td><td>2</td><td>0</td><td>0</td><td>4</td><td>2</td><td>0</td><td>1</td><td>1</td><td>2</td><td>0</td><td>0</td><td>0</td><td>1</td><td>0</td><td>0</td><td>6</td><td>11</td><td>&hellip;</td><td>0</td><td>0</td><td>0</td><td>0</td><td>0</td><td>0</td><td>0</td><td>0</td><td>0</td><td>0</td><td>35</td><td>5367</td><td>&quot;/srv/data/mrei/davinci/cr_repo…</td><td>&quot;266/227673-24Su-63976113A91906…</td><td>&quot;227673-24Su-63976113A919063536…</td><td>2285</td><td>2024</td><td>null</td><td>null</td><td>null</td><td>null</td><td>null</td><td>null</td><td>&quot;227673-24Su-63976113A919063536…</td><td>&quot;2023-01-01&quot;</td><td>&quot;2023-12-31&quot;</td><td>null</td><td>&quot;US0970231058,US4825391034,US09…</td><td>&quot;Downloaded&quot;</td><td>&quot;0001-01-01&quot;</td><td>227673</td><td>&quot;The Boeing Company&quot;</td><td>&quot;Industrials&quot;</td><td>&quot;Industrial&quot;</td><td>&quot;Capital Goods&quot;</td><td>&quot;USA&quot;</td><td>&quot;United States and Canada&quot;</td></tr><tr><td>&quot;3157-2024&quot;</td><td>&quot;Coherent Corp&quot;</td><td>2024.0</td><td>&quot;sustainability report&quot;</td><td>null</td><td>null</td><td>&quot;manual_CR_apr2025&quot;</td><td>null</td><td>null</td><td>null</td><td>&quot;bc24f5f853f1ad7c9c9644ad247e43…</td><td>0</td><td>2</td><td>7</td><td>0</td><td>5</td><td>4</td><td>0</td><td>4</td><td>0</td><td>0</td><td>0</td><td>0</td><td>10</td><td>1</td><td>0</td><td>0</td><td>0</td><td>4</td><td>0</td><td>0</td><td>2</td><td>1</td><td>0</td><td>0</td><td>1</td><td>5</td><td>&hellip;</td><td>0</td><td>0</td><td>0</td><td>0</td><td>0</td><td>0</td><td>0</td><td>0</td><td>0</td><td>0</td><td>33</td><td>4292</td><td>&quot;/srv/data/mrei/davinci/cr_repo…</td><td>&quot;37596/242645-24SG-60903895B932…</td><td>&quot;242645-24SG-60903895B932921496…</td><td>3157</td><td>2024</td><td>null</td><td>null</td><td>null</td><td>null</td><td>null</td><td>null</td><td>&quot;242645-24SG-60903895B932921496…</td><td>null</td><td>null</td><td>null</td><td>&quot;US1924791031,US19247G1076,US90…</td><td>&quot;Downloaded&quot;</td><td>&quot;0001-01-01&quot;</td><td>242645</td><td>&quot;Coherent Corp&quot;</td><td>&quot;Information Technology&quot;</td><td>&quot;Technology Hardware &amp; Equipmen…</td><td>&quot;Electronic Equipment, Instrume…</td><td>&quot;USA&quot;</td><td>&quot;United States and Canada&quot;</td></tr><tr><td>&quot;3226-2024&quot;</td><td>&quot;Comcast Corporation&quot;</td><td>2024.0</td><td>&quot;sustainability report&quot;</td><td>null</td><td>null</td><td>&quot;manual_CR_apr2025&quot;</td><td>null</td><td>null</td><td>null</td><td>&quot;821981fd52eeda774c2bcfff0ea06a…</td><td>0</td><td>0</td><td>1</td><td>2</td><td>3</td><td>9</td><td>0</td><td>0</td><td>1</td><td>0</td><td>0</td><td>0</td><td>3</td><td>2</td><td>0</td><td>4</td><td>1</td><td>2</td><td>2</td><td>0</td><td>1</td><td>0</td><td>0</td><td>0</td><td>1</td><td>5</td><td>&hellip;</td><td>0</td><td>0</td><td>0</td><td>0</td><td>0</td><td>0</td><td>0</td><td>0</td><td>0</td><td>0</td><td>21</td><td>1584</td><td>&quot;/srv/data/mrei/davinci/cr_repo…</td><td>&quot;5126/226163-24Co-49982023I3349…</td><td>&quot;226163-24Co-49982023I334992635…</td><td>3226</td><td>2024</td><td>null</td><td>null</td><td>null</td><td>null</td><td>null</td><td>null</td><td>&quot;226163-24Co-49982023I334992635…</td><td>&quot;2023-01-01&quot;</td><td>&quot;2023-12-31&quot;</td><td>null</td><td>&quot;US872287AF41,US63946DKC91,US20…</td><td>&quot;Downloaded&quot;</td><td>&quot;0001-01-01&quot;</td><td>226163</td><td>&quot;Comcast Corp&quot;</td><td>&quot;Communication Services&quot;</td><td>&quot;Communication Services&quot;</td><td>&quot;Media &amp; Entertainment&quot;</td><td>&quot;USA&quot;</td><td>&quot;United States and Canada&quot;</td></tr></tbody></table></div>"
      ],
      "text/plain": [
       "shape: (5, 531)\n",
       "┌───────────┬────────────┬────────────┬────────────┬───┬────────────┬────────────┬─────┬───────────┐\n",
       "│ mrg       ┆ predicted_ ┆ predicted_ ┆ predicted_ ┆ … ┆ GICS_level ┆ GICS_level ┆ loc ┆ MacroRegi │\n",
       "│ ---       ┆ company_na ┆ report_yea ┆ report_typ ┆   ┆ _2         ┆ _3         ┆ --- ┆ on        │\n",
       "│ str       ┆ me         ┆ r          ┆ e          ┆   ┆ ---        ┆ ---        ┆ str ┆ ---       │\n",
       "│           ┆ ---        ┆ ---        ┆ ---        ┆   ┆ str        ┆ str        ┆     ┆ str       │\n",
       "│           ┆ str        ┆ f64        ┆ str        ┆   ┆            ┆            ┆     ┆           │\n",
       "╞═══════════╪════════════╪════════════╪════════════╪═══╪════════════╪════════════╪═════╪═══════════╡\n",
       "│ 1300-2024 ┆ Honeywell  ┆ 2024.0     ┆ sustainabi ┆ … ┆ Capital    ┆ Industrial ┆ USA ┆ United    │\n",
       "│           ┆ Internatio ┆            ┆ lity       ┆   ┆ Goods      ┆ Conglomera ┆     ┆ States    │\n",
       "│           ┆ nal Inc    ┆            ┆ report     ┆   ┆            ┆ tes        ┆     ┆ and       │\n",
       "│           ┆            ┆            ┆            ┆   ┆            ┆            ┆     ┆ Canada    │\n",
       "│ 2269-2024 ┆ H & R      ┆ 2024.0     ┆ sustainabi ┆ … ┆ Consumer   ┆ Diversifie ┆ USA ┆ United    │\n",
       "│           ┆ Block Inc  ┆            ┆ lity       ┆   ┆ Services   ┆ d Consumer ┆     ┆ States    │\n",
       "│           ┆            ┆            ┆ report     ┆   ┆            ┆ Services   ┆     ┆ and       │\n",
       "│           ┆            ┆            ┆            ┆   ┆            ┆            ┆     ┆ Canada    │\n",
       "│ 2285-2024 ┆ The Boeing ┆ 2024.0     ┆ sustainabi ┆ … ┆ Industrial ┆ Capital    ┆ USA ┆ United    │\n",
       "│           ┆ Company    ┆            ┆ lity       ┆   ┆            ┆ Goods      ┆     ┆ States    │\n",
       "│           ┆            ┆            ┆ report     ┆   ┆            ┆            ┆     ┆ and       │\n",
       "│           ┆            ┆            ┆            ┆   ┆            ┆            ┆     ┆ Canada    │\n",
       "│ 3157-2024 ┆ Coherent   ┆ 2024.0     ┆ sustainabi ┆ … ┆ Technology ┆ Electronic ┆ USA ┆ United    │\n",
       "│           ┆ Corp       ┆            ┆ lity       ┆   ┆ Hardware & ┆ Equipment, ┆     ┆ States    │\n",
       "│           ┆            ┆            ┆ report     ┆   ┆ Equipmen…  ┆ Instrume…  ┆     ┆ and       │\n",
       "│           ┆            ┆            ┆            ┆   ┆            ┆            ┆     ┆ Canada    │\n",
       "│ 3226-2024 ┆ Comcast    ┆ 2024.0     ┆ sustainabi ┆ … ┆ Communicat ┆ Media &    ┆ USA ┆ United    │\n",
       "│           ┆ Corporatio ┆            ┆ lity       ┆   ┆ ion        ┆ Entertainm ┆     ┆ States    │\n",
       "│           ┆ n          ┆            ┆ report     ┆   ┆ Services   ┆ ent        ┆     ┆ and       │\n",
       "│           ┆            ┆            ┆            ┆   ┆            ┆            ┆     ┆ Canada    │\n",
       "└───────────┴────────────┴────────────┴────────────┴───┴────────────┴────────────┴─────┴───────────┘"
      ]
     },
     "execution_count": 41,
     "metadata": {},
     "output_type": "execute_result"
    }
   ],
   "source": [
    "lc_dataset.head()"
   ]
  },
  {
   "cell_type": "markdown",
   "metadata": {},
   "source": [
    "## Columns\n"
   ]
  },
  {
   "cell_type": "markdown",
   "metadata": {},
   "source": [
    "\n",
    "### PDF metadata\n",
    "\n",
    "\n"
   ]
  },
  {
   "cell_type": "code",
   "execution_count": 2,
   "metadata": {},
   "outputs": [],
   "source": [
    "pdf_metadata = {\n",
    "    \"mrg\": str,  # Ignore\n",
    "    \"searched_company_name\": str,  # The company we were looking for when we downloaded the PDF\n",
    "    \"predicted_company_name\": str,  # Equals to searched_company_name, if our algorithm matched the PDF with the searched company name\n",
    "    \"predicted_report_year\": float,  # Predicted report year inferred from the PDF\n",
    "    \"predicted_report_type\": str,  # Predicted report type inferred from the PDF and the number of initiatives in the PDF\n",
    "    \"search_rank\": str,  # Ignore\n",
    "    \"source\": str,  # Ignore\n",
    "    \"pdfurl\": str,  # Where the PDF was downloaded from\n",
    "    \"pdf_source_path\": str,  # Ignore\n",
    "    \"pdffilename\": str,  # Ignore\n",
    "    \"md5_fingerprint\": str,  # 'Unique' identifier for the PDF\n",
    "    \"number_of_initiatives\": int,  # Number of initiatives inferred from the PDF\n",
    "    \"num_tokenised_sentences\": int,  # Number of sentences the PDF was broken into\n",
    "    \"pdf_local_path\": str,  # Path to the PDF file in the server (used to identify it from the cloud)\n",
    "    \"pdf_local_path_relative\": str,  # Ignore\n",
    "    \"json_filename\": str,  # Ignore\n",
    "    \"rfyear\": int,  # Reference fiscal year of the PDF. Either the same as predicted_report_year or manually provided\n",
    "    \"mixed_cname\": str,  # Ignore\n",
    "    \"fyear\": str,  # Ignore\n",
    "    \"available_date\": str,  # Ignore\n",
    "    \"Title\": str,  # Ignore\n",
    "    \"report_fyear\": str,  # Ignore\n",
    "    \"Source_Language\": str,  # Ignore\n",
    "    \"pdf_file_name\": str,  # Ignore\n",
    "    \"Period From\": str,  # Period of the actions reported in the PDF. Not available for all PDFs\n",
    "    \"Period To\": str,  # Period of the actions reported in the PDF. Not available for all PDFs\n",
    "    \"data_type\": str,  # Origin of the data: crawled, manually added, etc.\n",
    "    \"CR Report No\": int,  # Report number provided by Corporate Register. Only available for reports purchased from Corporate Register.\n",
    "}"
   ]
  },
  {
   "cell_type": "markdown",
   "metadata": {},
   "source": [
    "## Initiative counts"
   ]
  },
  {
   "cell_type": "markdown",
   "metadata": {},
   "source": [
    "### Total sums"
   ]
  },
  {
   "cell_type": "code",
   "execution_count": 3,
   "metadata": {},
   "outputs": [
    {
     "data": {
      "text/plain": [
       "{'TYPE: adoption of standards and rules': int,\n",
       " 'TYPE: assessment and measurement': int,\n",
       " 'TYPE: asset modification': int,\n",
       " 'TYPE: association': int,\n",
       " 'TYPE: communication': int,\n",
       " 'TYPE: donation & funding': int,\n",
       " 'TYPE: incentives': int,\n",
       " 'TYPE: modification of procedures': int,\n",
       " 'TYPE: new products': int,\n",
       " 'TYPE: organizational structuring': int,\n",
       " 'TYPE: pricing': int,\n",
       " 'TYPE: r&d investments': int,\n",
       " 'TYPE: training': int,\n",
       " 'TYPE: volunteerism': int}"
      ]
     },
     "execution_count": 3,
     "metadata": {},
     "output_type": "execute_result"
    }
   ],
   "source": [
    "# Types of actions\n",
    "{col: v for col, v in lc_dataset.schema.to_python().items() if col.startswith(\"TYPE:\")}"
   ]
  },
  {
   "cell_type": "code",
   "execution_count": 4,
   "metadata": {},
   "outputs": [
    {
     "data": {
      "text/plain": [
       "{'SDG: 1': int,\n",
       " 'SDG: 10': int,\n",
       " 'SDG: 11': int,\n",
       " 'SDG: 12': int,\n",
       " 'SDG: 13': int,\n",
       " 'SDG: 14': int,\n",
       " 'SDG: 15': int,\n",
       " 'SDG: 16': int,\n",
       " 'SDG: 17': int,\n",
       " 'SDG: 2': int,\n",
       " 'SDG: 3': int,\n",
       " 'SDG: 4': int,\n",
       " 'SDG: 5': int,\n",
       " 'SDG: 6': int,\n",
       " 'SDG: 7': int,\n",
       " 'SDG: 8': int,\n",
       " 'SDG: 9': int}"
      ]
     },
     "execution_count": 4,
     "metadata": {},
     "output_type": "execute_result"
    }
   ],
   "source": [
    "# SDGs\n",
    "# SDGs\n",
    "{col: v for col, v in lc_dataset.schema.to_python().items() if col.startswith(\"SDG:\")}"
   ]
  },
  {
   "cell_type": "code",
   "execution_count": 5,
   "metadata": {},
   "outputs": [
    {
     "data": {
      "text/plain": [
       "{'stakeholder_recipient_customers': int,\n",
       " 'stakeholder_recipient_employees': int,\n",
       " 'stakeholder_recipient_environment': int,\n",
       " 'stakeholder_recipient_local communities and society': int,\n",
       " 'stakeholder_recipient_nothing': int,\n",
       " 'stakeholder_recipient_shareholders': int,\n",
       " 'stakeholder_recipient_suppliers': int}"
      ]
     },
     "execution_count": 5,
     "metadata": {},
     "output_type": "execute_result"
    }
   ],
   "source": [
    "# Stakeholder recipients\n",
    "{\n",
    "    col: v\n",
    "    for col, v in lc_dataset.schema.to_python().items()\n",
    "    if col.startswith(\"stakeholder_recipient_\")\n",
    "}"
   ]
  },
  {
   "cell_type": "markdown",
   "metadata": {},
   "source": [
    "### Bi-granular counts"
   ]
  },
  {
   "cell_type": "code",
   "execution_count": 51,
   "metadata": {},
   "outputs": [
    {
     "data": {
      "text/html": [
       "<div><style>\n",
       ".dataframe > thead > tr,\n",
       ".dataframe > tbody > tr {\n",
       "  text-align: right;\n",
       "  white-space: pre-wrap;\n",
       "}\n",
       "</style>\n",
       "<small>shape: (9, 2)</small><table border=\"1\" class=\"dataframe\"><thead><tr><th>statistic</th><th>value</th></tr><tr><td>str</td><td>f64</td></tr></thead><tbody><tr><td>&quot;count&quot;</td><td>50520.0</td></tr><tr><td>&quot;null_count&quot;</td><td>0.0</td></tr><tr><td>&quot;mean&quot;</td><td>0.60576</td></tr><tr><td>&quot;std&quot;</td><td>1.085444</td></tr><tr><td>&quot;min&quot;</td><td>0.0</td></tr><tr><td>&quot;25%&quot;</td><td>0.0</td></tr><tr><td>&quot;50%&quot;</td><td>0.0</td></tr><tr><td>&quot;75%&quot;</td><td>1.0</td></tr><tr><td>&quot;max&quot;</td><td>25.0</td></tr></tbody></table></div>"
      ],
      "text/plain": [
       "shape: (9, 2)\n",
       "┌────────────┬──────────┐\n",
       "│ statistic  ┆ value    │\n",
       "│ ---        ┆ ---      │\n",
       "│ str        ┆ f64      │\n",
       "╞════════════╪══════════╡\n",
       "│ count      ┆ 50520.0  │\n",
       "│ null_count ┆ 0.0      │\n",
       "│ mean       ┆ 0.60576  │\n",
       "│ std        ┆ 1.085444 │\n",
       "│ min        ┆ 0.0      │\n",
       "│ 25%        ┆ 0.0      │\n",
       "│ 50%        ┆ 0.0      │\n",
       "│ 75%        ┆ 1.0      │\n",
       "│ max        ┆ 25.0     │\n",
       "└────────────┴──────────┘"
      ]
     },
     "execution_count": 51,
     "metadata": {},
     "output_type": "execute_result"
    }
   ],
   "source": [
    "lc_dataset[\"training - SDG 8\"].describe()"
   ]
  },
  {
   "cell_type": "code",
   "execution_count": 52,
   "metadata": {},
   "outputs": [
    {
     "data": {
      "text/plain": [
       "{'adoption of standards and rules - SDG 1': int,\n",
       " 'adoption of standards and rules - SDG 10': int,\n",
       " 'adoption of standards and rules - SDG 11': int,\n",
       " 'adoption of standards and rules - SDG 12': int,\n",
       " 'adoption of standards and rules - SDG 13': int,\n",
       " 'adoption of standards and rules - SDG 14': int,\n",
       " 'adoption of standards and rules - SDG 15': int,\n",
       " 'adoption of standards and rules - SDG 16': int,\n",
       " 'adoption of standards and rules - SDG 17': int,\n",
       " 'adoption of standards and rules - SDG 2': int,\n",
       " 'adoption of standards and rules - SDG 3': int,\n",
       " 'adoption of standards and rules - SDG 4': int,\n",
       " 'adoption of standards and rules - SDG 5': int,\n",
       " 'adoption of standards and rules - SDG 6': int,\n",
       " 'adoption of standards and rules - SDG 7': int,\n",
       " 'adoption of standards and rules - SDG 8': int,\n",
       " 'adoption of standards and rules - SDG 9': int,\n",
       " 'assessment and measurement - SDG 1': int,\n",
       " 'assessment and measurement - SDG 10': int,\n",
       " 'assessment and measurement - SDG 11': int,\n",
       " 'assessment and measurement - SDG 12': int,\n",
       " 'assessment and measurement - SDG 13': int,\n",
       " 'assessment and measurement - SDG 14': int,\n",
       " 'assessment and measurement - SDG 15': int,\n",
       " 'assessment and measurement - SDG 16': int,\n",
       " 'assessment and measurement - SDG 17': int,\n",
       " 'assessment and measurement - SDG 2': int,\n",
       " 'assessment and measurement - SDG 3': int,\n",
       " 'assessment and measurement - SDG 4': int,\n",
       " 'assessment and measurement - SDG 5': int,\n",
       " 'assessment and measurement - SDG 6': int,\n",
       " 'assessment and measurement - SDG 7': int,\n",
       " 'assessment and measurement - SDG 8': int,\n",
       " 'assessment and measurement - SDG 9': int,\n",
       " 'asset modification - SDG 1': int,\n",
       " 'asset modification - SDG 10': int,\n",
       " 'asset modification - SDG 11': int,\n",
       " 'asset modification - SDG 12': int,\n",
       " 'asset modification - SDG 13': int,\n",
       " 'asset modification - SDG 14': int,\n",
       " 'asset modification - SDG 15': int,\n",
       " 'asset modification - SDG 16': int,\n",
       " 'asset modification - SDG 17': int,\n",
       " 'asset modification - SDG 2': int,\n",
       " 'asset modification - SDG 3': int,\n",
       " 'asset modification - SDG 4': int,\n",
       " 'asset modification - SDG 5': int,\n",
       " 'asset modification - SDG 6': int,\n",
       " 'asset modification - SDG 7': int,\n",
       " 'asset modification - SDG 8': int,\n",
       " 'asset modification - SDG 9': int,\n",
       " 'association - SDG 1': int,\n",
       " 'association - SDG 10': int,\n",
       " 'association - SDG 11': int,\n",
       " 'association - SDG 12': int,\n",
       " 'association - SDG 13': int,\n",
       " 'association - SDG 14': int,\n",
       " 'association - SDG 15': int,\n",
       " 'association - SDG 16': int,\n",
       " 'association - SDG 17': int,\n",
       " 'association - SDG 2': int,\n",
       " 'association - SDG 3': int,\n",
       " 'association - SDG 4': int,\n",
       " 'association - SDG 5': int,\n",
       " 'association - SDG 6': int,\n",
       " 'association - SDG 7': int,\n",
       " 'association - SDG 8': int,\n",
       " 'association - SDG 9': int,\n",
       " 'communication - SDG 1': int,\n",
       " 'communication - SDG 10': int,\n",
       " 'communication - SDG 11': int,\n",
       " 'communication - SDG 12': int,\n",
       " 'communication - SDG 13': int,\n",
       " 'communication - SDG 14': int,\n",
       " 'communication - SDG 15': int,\n",
       " 'communication - SDG 16': int,\n",
       " 'communication - SDG 17': int,\n",
       " 'communication - SDG 2': int,\n",
       " 'communication - SDG 3': int,\n",
       " 'communication - SDG 4': int,\n",
       " 'communication - SDG 5': int,\n",
       " 'communication - SDG 6': int,\n",
       " 'communication - SDG 7': int,\n",
       " 'communication - SDG 8': int,\n",
       " 'communication - SDG 9': int,\n",
       " 'donation & funding - SDG 1': int,\n",
       " 'donation & funding - SDG 10': int,\n",
       " 'donation & funding - SDG 11': int,\n",
       " 'donation & funding - SDG 12': int,\n",
       " 'donation & funding - SDG 13': int,\n",
       " 'donation & funding - SDG 14': int,\n",
       " 'donation & funding - SDG 15': int,\n",
       " 'donation & funding - SDG 16': int,\n",
       " 'donation & funding - SDG 17': int,\n",
       " 'donation & funding - SDG 2': int,\n",
       " 'donation & funding - SDG 3': int,\n",
       " 'donation & funding - SDG 4': int,\n",
       " 'donation & funding - SDG 5': int,\n",
       " 'donation & funding - SDG 6': int,\n",
       " 'donation & funding - SDG 7': int,\n",
       " 'donation & funding - SDG 8': int,\n",
       " 'donation & funding - SDG 9': int,\n",
       " 'incentives - SDG 1': int,\n",
       " 'incentives - SDG 10': int,\n",
       " 'incentives - SDG 11': int,\n",
       " 'incentives - SDG 12': int,\n",
       " 'incentives - SDG 13': int,\n",
       " 'incentives - SDG 14': int,\n",
       " 'incentives - SDG 15': int,\n",
       " 'incentives - SDG 16': int,\n",
       " 'incentives - SDG 17': int,\n",
       " 'incentives - SDG 2': int,\n",
       " 'incentives - SDG 3': int,\n",
       " 'incentives - SDG 4': int,\n",
       " 'incentives - SDG 5': int,\n",
       " 'incentives - SDG 6': int,\n",
       " 'incentives - SDG 7': int,\n",
       " 'incentives - SDG 8': int,\n",
       " 'incentives - SDG 9': int,\n",
       " 'modification of procedures - SDG 1': int,\n",
       " 'modification of procedures - SDG 10': int,\n",
       " 'modification of procedures - SDG 11': int,\n",
       " 'modification of procedures - SDG 12': int,\n",
       " 'modification of procedures - SDG 13': int,\n",
       " 'modification of procedures - SDG 14': int,\n",
       " 'modification of procedures - SDG 15': int,\n",
       " 'modification of procedures - SDG 16': int,\n",
       " 'modification of procedures - SDG 17': int,\n",
       " 'modification of procedures - SDG 2': int,\n",
       " 'modification of procedures - SDG 3': int,\n",
       " 'modification of procedures - SDG 4': int,\n",
       " 'modification of procedures - SDG 5': int,\n",
       " 'modification of procedures - SDG 6': int,\n",
       " 'modification of procedures - SDG 7': int,\n",
       " 'modification of procedures - SDG 8': int,\n",
       " 'modification of procedures - SDG 9': int,\n",
       " 'new products - SDG 1': int,\n",
       " 'new products - SDG 10': int,\n",
       " 'new products - SDG 11': int,\n",
       " 'new products - SDG 12': int,\n",
       " 'new products - SDG 13': int,\n",
       " 'new products - SDG 14': int,\n",
       " 'new products - SDG 15': int,\n",
       " 'new products - SDG 16': int,\n",
       " 'new products - SDG 17': int,\n",
       " 'new products - SDG 2': int,\n",
       " 'new products - SDG 3': int,\n",
       " 'new products - SDG 4': int,\n",
       " 'new products - SDG 5': int,\n",
       " 'new products - SDG 6': int,\n",
       " 'new products - SDG 7': int,\n",
       " 'new products - SDG 8': int,\n",
       " 'new products - SDG 9': int,\n",
       " 'organizational structuring - SDG 1': int,\n",
       " 'organizational structuring - SDG 10': int,\n",
       " 'organizational structuring - SDG 11': int,\n",
       " 'organizational structuring - SDG 12': int,\n",
       " 'organizational structuring - SDG 13': int,\n",
       " 'organizational structuring - SDG 14': int,\n",
       " 'organizational structuring - SDG 15': int,\n",
       " 'organizational structuring - SDG 16': int,\n",
       " 'organizational structuring - SDG 17': int,\n",
       " 'organizational structuring - SDG 2': int,\n",
       " 'organizational structuring - SDG 3': int,\n",
       " 'organizational structuring - SDG 4': int,\n",
       " 'organizational structuring - SDG 5': int,\n",
       " 'organizational structuring - SDG 6': int,\n",
       " 'organizational structuring - SDG 7': int,\n",
       " 'organizational structuring - SDG 8': int,\n",
       " 'organizational structuring - SDG 9': int,\n",
       " 'pricing - SDG 1': int,\n",
       " 'pricing - SDG 10': int,\n",
       " 'pricing - SDG 11': int,\n",
       " 'pricing - SDG 12': int,\n",
       " 'pricing - SDG 13': int,\n",
       " 'pricing - SDG 14': int,\n",
       " 'pricing - SDG 15': int,\n",
       " 'pricing - SDG 16': int,\n",
       " 'pricing - SDG 17': int,\n",
       " 'pricing - SDG 2': int,\n",
       " 'pricing - SDG 3': int,\n",
       " 'pricing - SDG 4': int,\n",
       " 'pricing - SDG 5': int,\n",
       " 'pricing - SDG 6': int,\n",
       " 'pricing - SDG 7': int,\n",
       " 'pricing - SDG 8': int,\n",
       " 'pricing - SDG 9': int,\n",
       " 'r&d investments - SDG 1': int,\n",
       " 'r&d investments - SDG 10': int,\n",
       " 'r&d investments - SDG 11': int,\n",
       " 'r&d investments - SDG 12': int,\n",
       " 'r&d investments - SDG 13': int,\n",
       " 'r&d investments - SDG 14': int,\n",
       " 'r&d investments - SDG 15': int,\n",
       " 'r&d investments - SDG 16': int,\n",
       " 'r&d investments - SDG 17': int,\n",
       " 'r&d investments - SDG 2': int,\n",
       " 'r&d investments - SDG 3': int,\n",
       " 'r&d investments - SDG 4': int,\n",
       " 'r&d investments - SDG 5': int,\n",
       " 'r&d investments - SDG 6': int,\n",
       " 'r&d investments - SDG 7': int,\n",
       " 'r&d investments - SDG 8': int,\n",
       " 'r&d investments - SDG 9': int,\n",
       " 'training - SDG 1': int,\n",
       " 'training - SDG 10': int,\n",
       " 'training - SDG 11': int,\n",
       " 'training - SDG 12': int,\n",
       " 'training - SDG 13': int,\n",
       " 'training - SDG 14': int,\n",
       " 'training - SDG 15': int,\n",
       " 'training - SDG 16': int,\n",
       " 'training - SDG 17': int,\n",
       " 'training - SDG 2': int,\n",
       " 'training - SDG 3': int,\n",
       " 'training - SDG 4': int,\n",
       " 'training - SDG 5': int,\n",
       " 'training - SDG 6': int,\n",
       " 'training - SDG 7': int,\n",
       " 'training - SDG 8': int,\n",
       " 'training - SDG 9': int,\n",
       " 'volunteerism - SDG 1': int,\n",
       " 'volunteerism - SDG 10': int,\n",
       " 'volunteerism - SDG 11': int,\n",
       " 'volunteerism - SDG 12': int,\n",
       " 'volunteerism - SDG 13': int,\n",
       " 'volunteerism - SDG 14': int,\n",
       " 'volunteerism - SDG 15': int,\n",
       " 'volunteerism - SDG 16': int,\n",
       " 'volunteerism - SDG 17': int,\n",
       " 'volunteerism - SDG 2': int,\n",
       " 'volunteerism - SDG 3': int,\n",
       " 'volunteerism - SDG 4': int,\n",
       " 'volunteerism - SDG 5': int,\n",
       " 'volunteerism - SDG 6': int,\n",
       " 'volunteerism - SDG 7': int,\n",
       " 'volunteerism - SDG 8': int,\n",
       " 'volunteerism - SDG 9': int}"
      ]
     },
     "execution_count": 52,
     "metadata": {},
     "output_type": "execute_result"
    }
   ],
   "source": [
    "# Type of action - SDG\n",
    "{col: v for col, v in lc_dataset.schema.to_python().items() if \" - SDG\" in col}"
   ]
  },
  {
   "cell_type": "code",
   "execution_count": 7,
   "metadata": {},
   "outputs": [
    {
     "data": {
      "text/plain": [
       "{'TYPE_SREC: adoption of standards and rules - customers': int,\n",
       " 'TYPE_SREC: adoption of standards and rules - employees': int,\n",
       " 'TYPE_SREC: adoption of standards and rules - environment': int,\n",
       " 'TYPE_SREC: adoption of standards and rules - local communities and society': int,\n",
       " 'TYPE_SREC: adoption of standards and rules - nothing': int,\n",
       " 'TYPE_SREC: adoption of standards and rules - shareholders': int,\n",
       " 'TYPE_SREC: adoption of standards and rules - suppliers': int,\n",
       " 'TYPE_SREC: assessment and measurement - customers': int,\n",
       " 'TYPE_SREC: assessment and measurement - employees': int,\n",
       " 'TYPE_SREC: assessment and measurement - environment': int,\n",
       " 'TYPE_SREC: assessment and measurement - local communities and society': int,\n",
       " 'TYPE_SREC: assessment and measurement - nothing': int,\n",
       " 'TYPE_SREC: assessment and measurement - shareholders': int,\n",
       " 'TYPE_SREC: assessment and measurement - suppliers': int,\n",
       " 'TYPE_SREC: asset modification - customers': int,\n",
       " 'TYPE_SREC: asset modification - employees': int,\n",
       " 'TYPE_SREC: asset modification - environment': int,\n",
       " 'TYPE_SREC: asset modification - local communities and society': int,\n",
       " 'TYPE_SREC: asset modification - nothing': int,\n",
       " 'TYPE_SREC: asset modification - shareholders': int,\n",
       " 'TYPE_SREC: asset modification - suppliers': int,\n",
       " 'TYPE_SREC: association - customers': int,\n",
       " 'TYPE_SREC: association - employees': int,\n",
       " 'TYPE_SREC: association - environment': int,\n",
       " 'TYPE_SREC: association - local communities and society': int,\n",
       " 'TYPE_SREC: association - nothing': int,\n",
       " 'TYPE_SREC: association - shareholders': int,\n",
       " 'TYPE_SREC: association - suppliers': int,\n",
       " 'TYPE_SREC: communication - customers': int,\n",
       " 'TYPE_SREC: communication - employees': int,\n",
       " 'TYPE_SREC: communication - environment': int,\n",
       " 'TYPE_SREC: communication - local communities and society': int,\n",
       " 'TYPE_SREC: communication - nothing': int,\n",
       " 'TYPE_SREC: communication - shareholders': int,\n",
       " 'TYPE_SREC: communication - suppliers': int,\n",
       " 'TYPE_SREC: donation & funding - customers': int,\n",
       " 'TYPE_SREC: donation & funding - employees': int,\n",
       " 'TYPE_SREC: donation & funding - environment': int,\n",
       " 'TYPE_SREC: donation & funding - local communities and society': int,\n",
       " 'TYPE_SREC: donation & funding - nothing': int,\n",
       " 'TYPE_SREC: donation & funding - shareholders': int,\n",
       " 'TYPE_SREC: donation & funding - suppliers': int,\n",
       " 'TYPE_SREC: incentives - customers': int,\n",
       " 'TYPE_SREC: incentives - employees': int,\n",
       " 'TYPE_SREC: incentives - environment': int,\n",
       " 'TYPE_SREC: incentives - local communities and society': int,\n",
       " 'TYPE_SREC: incentives - nothing': int,\n",
       " 'TYPE_SREC: incentives - shareholders': int,\n",
       " 'TYPE_SREC: incentives - suppliers': int,\n",
       " 'TYPE_SREC: modification of procedures - customers': int,\n",
       " 'TYPE_SREC: modification of procedures - employees': int,\n",
       " 'TYPE_SREC: modification of procedures - environment': int,\n",
       " 'TYPE_SREC: modification of procedures - local communities and society': int,\n",
       " 'TYPE_SREC: modification of procedures - nothing': int,\n",
       " 'TYPE_SREC: modification of procedures - shareholders': int,\n",
       " 'TYPE_SREC: modification of procedures - suppliers': int,\n",
       " 'TYPE_SREC: new products - customers': int,\n",
       " 'TYPE_SREC: new products - employees': int,\n",
       " 'TYPE_SREC: new products - environment': int,\n",
       " 'TYPE_SREC: new products - local communities and society': int,\n",
       " 'TYPE_SREC: new products - nothing': int,\n",
       " 'TYPE_SREC: new products - shareholders': int,\n",
       " 'TYPE_SREC: new products - suppliers': int,\n",
       " 'TYPE_SREC: organizational structuring - customers': int,\n",
       " 'TYPE_SREC: organizational structuring - employees': int,\n",
       " 'TYPE_SREC: organizational structuring - environment': int,\n",
       " 'TYPE_SREC: organizational structuring - local communities and society': int,\n",
       " 'TYPE_SREC: organizational structuring - nothing': int,\n",
       " 'TYPE_SREC: organizational structuring - shareholders': int,\n",
       " 'TYPE_SREC: organizational structuring - suppliers': int,\n",
       " 'TYPE_SREC: pricing - customers': int,\n",
       " 'TYPE_SREC: pricing - employees': int,\n",
       " 'TYPE_SREC: pricing - environment': int,\n",
       " 'TYPE_SREC: pricing - local communities and society': int,\n",
       " 'TYPE_SREC: pricing - nothing': int,\n",
       " 'TYPE_SREC: pricing - shareholders': int,\n",
       " 'TYPE_SREC: pricing - suppliers': int,\n",
       " 'TYPE_SREC: r&d investments - customers': int,\n",
       " 'TYPE_SREC: r&d investments - employees': int,\n",
       " 'TYPE_SREC: r&d investments - environment': int,\n",
       " 'TYPE_SREC: r&d investments - local communities and society': int,\n",
       " 'TYPE_SREC: r&d investments - nothing': int,\n",
       " 'TYPE_SREC: r&d investments - shareholders': int,\n",
       " 'TYPE_SREC: r&d investments - suppliers': int,\n",
       " 'TYPE_SREC: training - customers': int,\n",
       " 'TYPE_SREC: training - employees': int,\n",
       " 'TYPE_SREC: training - environment': int,\n",
       " 'TYPE_SREC: training - local communities and society': int,\n",
       " 'TYPE_SREC: training - nothing': int,\n",
       " 'TYPE_SREC: training - shareholders': int,\n",
       " 'TYPE_SREC: training - suppliers': int,\n",
       " 'TYPE_SREC: volunteerism - customers': int,\n",
       " 'TYPE_SREC: volunteerism - employees': int,\n",
       " 'TYPE_SREC: volunteerism - environment': int,\n",
       " 'TYPE_SREC: volunteerism - local communities and society': int,\n",
       " 'TYPE_SREC: volunteerism - nothing': int,\n",
       " 'TYPE_SREC: volunteerism - shareholders': int,\n",
       " 'TYPE_SREC: volunteerism - suppliers': int}"
      ]
     },
     "execution_count": 7,
     "metadata": {},
     "output_type": "execute_result"
    }
   ],
   "source": [
    "# Type of action - Stakeholder recipient\n",
    "{\n",
    "    col: v\n",
    "    for col, v in lc_dataset.schema.to_python().items()\n",
    "    if col.startswith(\"TYPE_SREC:\")\n",
    "}"
   ]
  },
  {
   "cell_type": "code",
   "execution_count": 8,
   "metadata": {},
   "outputs": [
    {
     "data": {
      "text/plain": [
       "{'SDG_SREC: SDG 1 - customers': int,\n",
       " 'SDG_SREC: SDG 1 - employees': int,\n",
       " 'SDG_SREC: SDG 1 - environment': int,\n",
       " 'SDG_SREC: SDG 1 - local communities and society': int,\n",
       " 'SDG_SREC: SDG 1 - nothing': int,\n",
       " 'SDG_SREC: SDG 1 - shareholders': int,\n",
       " 'SDG_SREC: SDG 1 - suppliers': int,\n",
       " 'SDG_SREC: SDG 10 - customers': int,\n",
       " 'SDG_SREC: SDG 10 - employees': int,\n",
       " 'SDG_SREC: SDG 10 - environment': int,\n",
       " 'SDG_SREC: SDG 10 - local communities and society': int,\n",
       " 'SDG_SREC: SDG 10 - nothing': int,\n",
       " 'SDG_SREC: SDG 10 - shareholders': int,\n",
       " 'SDG_SREC: SDG 10 - suppliers': int,\n",
       " 'SDG_SREC: SDG 11 - customers': int,\n",
       " 'SDG_SREC: SDG 11 - employees': int,\n",
       " 'SDG_SREC: SDG 11 - environment': int,\n",
       " 'SDG_SREC: SDG 11 - local communities and society': int,\n",
       " 'SDG_SREC: SDG 11 - nothing': int,\n",
       " 'SDG_SREC: SDG 11 - shareholders': int,\n",
       " 'SDG_SREC: SDG 11 - suppliers': int,\n",
       " 'SDG_SREC: SDG 12 - customers': int,\n",
       " 'SDG_SREC: SDG 12 - employees': int,\n",
       " 'SDG_SREC: SDG 12 - environment': int,\n",
       " 'SDG_SREC: SDG 12 - local communities and society': int,\n",
       " 'SDG_SREC: SDG 12 - nothing': int,\n",
       " 'SDG_SREC: SDG 12 - shareholders': int,\n",
       " 'SDG_SREC: SDG 12 - suppliers': int,\n",
       " 'SDG_SREC: SDG 13 - customers': int,\n",
       " 'SDG_SREC: SDG 13 - employees': int,\n",
       " 'SDG_SREC: SDG 13 - environment': int,\n",
       " 'SDG_SREC: SDG 13 - local communities and society': int,\n",
       " 'SDG_SREC: SDG 13 - nothing': int,\n",
       " 'SDG_SREC: SDG 13 - shareholders': int,\n",
       " 'SDG_SREC: SDG 13 - suppliers': int,\n",
       " 'SDG_SREC: SDG 14 - customers': int,\n",
       " 'SDG_SREC: SDG 14 - employees': int,\n",
       " 'SDG_SREC: SDG 14 - environment': int,\n",
       " 'SDG_SREC: SDG 14 - local communities and society': int,\n",
       " 'SDG_SREC: SDG 14 - nothing': int,\n",
       " 'SDG_SREC: SDG 14 - shareholders': int,\n",
       " 'SDG_SREC: SDG 14 - suppliers': int,\n",
       " 'SDG_SREC: SDG 15 - customers': int,\n",
       " 'SDG_SREC: SDG 15 - employees': int,\n",
       " 'SDG_SREC: SDG 15 - environment': int,\n",
       " 'SDG_SREC: SDG 15 - local communities and society': int,\n",
       " 'SDG_SREC: SDG 15 - nothing': int,\n",
       " 'SDG_SREC: SDG 15 - shareholders': int,\n",
       " 'SDG_SREC: SDG 15 - suppliers': int,\n",
       " 'SDG_SREC: SDG 16 - customers': int,\n",
       " 'SDG_SREC: SDG 16 - employees': int,\n",
       " 'SDG_SREC: SDG 16 - environment': int,\n",
       " 'SDG_SREC: SDG 16 - local communities and society': int,\n",
       " 'SDG_SREC: SDG 16 - nothing': int,\n",
       " 'SDG_SREC: SDG 16 - shareholders': int,\n",
       " 'SDG_SREC: SDG 16 - suppliers': int,\n",
       " 'SDG_SREC: SDG 17 - customers': int,\n",
       " 'SDG_SREC: SDG 17 - employees': int,\n",
       " 'SDG_SREC: SDG 17 - environment': int,\n",
       " 'SDG_SREC: SDG 17 - local communities and society': int,\n",
       " 'SDG_SREC: SDG 17 - nothing': int,\n",
       " 'SDG_SREC: SDG 17 - shareholders': int,\n",
       " 'SDG_SREC: SDG 17 - suppliers': int,\n",
       " 'SDG_SREC: SDG 2 - customers': int,\n",
       " 'SDG_SREC: SDG 2 - employees': int,\n",
       " 'SDG_SREC: SDG 2 - environment': int,\n",
       " 'SDG_SREC: SDG 2 - local communities and society': int,\n",
       " 'SDG_SREC: SDG 2 - nothing': int,\n",
       " 'SDG_SREC: SDG 2 - shareholders': int,\n",
       " 'SDG_SREC: SDG 2 - suppliers': int,\n",
       " 'SDG_SREC: SDG 3 - customers': int,\n",
       " 'SDG_SREC: SDG 3 - employees': int,\n",
       " 'SDG_SREC: SDG 3 - environment': int,\n",
       " 'SDG_SREC: SDG 3 - local communities and society': int,\n",
       " 'SDG_SREC: SDG 3 - nothing': int,\n",
       " 'SDG_SREC: SDG 3 - shareholders': int,\n",
       " 'SDG_SREC: SDG 3 - suppliers': int,\n",
       " 'SDG_SREC: SDG 4 - customers': int,\n",
       " 'SDG_SREC: SDG 4 - employees': int,\n",
       " 'SDG_SREC: SDG 4 - environment': int,\n",
       " 'SDG_SREC: SDG 4 - local communities and society': int,\n",
       " 'SDG_SREC: SDG 4 - nothing': int,\n",
       " 'SDG_SREC: SDG 4 - shareholders': int,\n",
       " 'SDG_SREC: SDG 4 - suppliers': int,\n",
       " 'SDG_SREC: SDG 5 - customers': int,\n",
       " 'SDG_SREC: SDG 5 - employees': int,\n",
       " 'SDG_SREC: SDG 5 - environment': int,\n",
       " 'SDG_SREC: SDG 5 - local communities and society': int,\n",
       " 'SDG_SREC: SDG 5 - nothing': int,\n",
       " 'SDG_SREC: SDG 5 - shareholders': int,\n",
       " 'SDG_SREC: SDG 5 - suppliers': int,\n",
       " 'SDG_SREC: SDG 6 - customers': int,\n",
       " 'SDG_SREC: SDG 6 - employees': int,\n",
       " 'SDG_SREC: SDG 6 - environment': int,\n",
       " 'SDG_SREC: SDG 6 - local communities and society': int,\n",
       " 'SDG_SREC: SDG 6 - nothing': int,\n",
       " 'SDG_SREC: SDG 6 - shareholders': int,\n",
       " 'SDG_SREC: SDG 6 - suppliers': int,\n",
       " 'SDG_SREC: SDG 7 - customers': int,\n",
       " 'SDG_SREC: SDG 7 - employees': int,\n",
       " 'SDG_SREC: SDG 7 - environment': int,\n",
       " 'SDG_SREC: SDG 7 - local communities and society': int,\n",
       " 'SDG_SREC: SDG 7 - nothing': int,\n",
       " 'SDG_SREC: SDG 7 - shareholders': int,\n",
       " 'SDG_SREC: SDG 7 - suppliers': int,\n",
       " 'SDG_SREC: SDG 8 - customers': int,\n",
       " 'SDG_SREC: SDG 8 - employees': int,\n",
       " 'SDG_SREC: SDG 8 - environment': int,\n",
       " 'SDG_SREC: SDG 8 - local communities and society': int,\n",
       " 'SDG_SREC: SDG 8 - nothing': int,\n",
       " 'SDG_SREC: SDG 8 - shareholders': int,\n",
       " 'SDG_SREC: SDG 8 - suppliers': int,\n",
       " 'SDG_SREC: SDG 9 - customers': int,\n",
       " 'SDG_SREC: SDG 9 - employees': int,\n",
       " 'SDG_SREC: SDG 9 - environment': int,\n",
       " 'SDG_SREC: SDG 9 - local communities and society': int,\n",
       " 'SDG_SREC: SDG 9 - nothing': int,\n",
       " 'SDG_SREC: SDG 9 - shareholders': int,\n",
       " 'SDG_SREC: SDG 9 - suppliers': int}"
      ]
     },
     "execution_count": 8,
     "metadata": {},
     "output_type": "execute_result"
    }
   ],
   "source": [
    "# SDG - Stakeholder recipient\n",
    "{\n",
    "    col: v\n",
    "    for col, v in lc_dataset.schema.to_python().items()\n",
    "    if col.startswith(\"SDG_SREC:\")\n",
    "}"
   ]
  },
  {
   "cell_type": "markdown",
   "metadata": {},
   "source": [
    "## Company Metadata"
   ]
  },
  {
   "cell_type": "code",
   "execution_count": 9,
   "metadata": {},
   "outputs": [],
   "source": [
    "company_metadata = {\n",
    "    \"ids\": str,  # Main ISIN of the company\n",
    "    \"full_isin_list\": str,  # All ISINs we gathered from the company\n",
    "    \"conml\": str,  # Company legal name\n",
    "    \"GICS_level_1\": str,  # GICS Sector name of the company\n",
    "    \"GICS_level_2\": str,  # GICS Industry Group name of the company\n",
    "    \"GICS_level_3\": str,  # GICS Industry name of the company\n",
    "    \"loc\": str,  # Country alpha-3 code of the company HQ\n",
    "    \"MacroRegion\": str,  # Macro region of the company HQ - inferred from loc\n",
    "}"
   ]
  },
  {
   "cell_type": "code",
   "execution_count": 54,
   "metadata": {},
   "outputs": [
    {
     "data": {
      "text/plain": [
       "['Energy',\n",
       " 'Health Care',\n",
       " 'Financials',\n",
       " 'Real Estate',\n",
       " 'Utilities',\n",
       " 'Industrials',\n",
       " 'Materials',\n",
       " 'Information Technology',\n",
       " None,\n",
       " 'Communication Services',\n",
       " 'Consumer Discretionary',\n",
       " 'Consumer Staples']"
      ]
     },
     "execution_count": 54,
     "metadata": {},
     "output_type": "execute_result"
    }
   ],
   "source": [
    "lc_dataset[\"GICS_level_1\"].unique().to_list()"
   ]
  },
  {
   "cell_type": "code",
   "execution_count": 58,
   "metadata": {},
   "outputs": [
    {
     "data": {
      "text/html": [
       "<div><style>\n",
       ".dataframe > thead > tr,\n",
       ".dataframe > tbody > tr {\n",
       "  text-align: right;\n",
       "  white-space: pre-wrap;\n",
       "}\n",
       "</style>\n",
       "<small>shape: (9, 2)</small><table border=\"1\" class=\"dataframe\"><thead><tr><th>statistic</th><th>value</th></tr><tr><td>str</td><td>f64</td></tr></thead><tbody><tr><td>&quot;count&quot;</td><td>3222.0</td></tr><tr><td>&quot;null_count&quot;</td><td>0.0</td></tr><tr><td>&quot;mean&quot;</td><td>2.929236</td></tr><tr><td>&quot;std&quot;</td><td>5.363238</td></tr><tr><td>&quot;min&quot;</td><td>0.0</td></tr><tr><td>&quot;25%&quot;</td><td>0.0</td></tr><tr><td>&quot;50%&quot;</td><td>1.0</td></tr><tr><td>&quot;75%&quot;</td><td>4.0</td></tr><tr><td>&quot;max&quot;</td><td>101.0</td></tr></tbody></table></div>"
      ],
      "text/plain": [
       "shape: (9, 2)\n",
       "┌────────────┬──────────┐\n",
       "│ statistic  ┆ value    │\n",
       "│ ---        ┆ ---      │\n",
       "│ str        ┆ f64      │\n",
       "╞════════════╪══════════╡\n",
       "│ count      ┆ 3222.0   │\n",
       "│ null_count ┆ 0.0      │\n",
       "│ mean       ┆ 2.929236 │\n",
       "│ std        ┆ 5.363238 │\n",
       "│ min        ┆ 0.0      │\n",
       "│ 25%        ┆ 0.0      │\n",
       "│ 50%        ┆ 1.0      │\n",
       "│ 75%        ┆ 4.0      │\n",
       "│ max        ┆ 101.0    │\n",
       "└────────────┴──────────┘"
      ]
     },
     "execution_count": 58,
     "metadata": {},
     "output_type": "execute_result"
    }
   ],
   "source": [
    "lc_dataset.filter(pl.col(\"GICS_level_1\") == \"Health Care\")[\"SDG: 12\"].describe()"
   ]
  },
  {
   "cell_type": "markdown",
   "metadata": {},
   "source": [
    "# Maturity"
   ]
  },
  {
   "cell_type": "code",
   "execution_count": 59,
   "metadata": {},
   "outputs": [
    {
     "data": {
      "text/plain": [
       "{'Advocacy': ['communication', 'donation & funding', 'association'],\n",
       " 'Measurement': ['adoption of standards and rules',\n",
       "  'assessment and measurement'],\n",
       " 'Upskilling': ['training', 'incentives', 'volunteerism'],\n",
       " 'Adaptation': ['asset modification',\n",
       "  'modification of procedures',\n",
       "  'pricing',\n",
       "  'organizational structuring'],\n",
       " 'Innovation': ['new products', 'r&d investments']}"
      ]
     },
     "execution_count": 59,
     "metadata": {},
     "output_type": "execute_result"
    }
   ],
   "source": [
    "from leonardo_core.constants.constants import IndexV1_1MacroGroups, MacroGroups\n",
    "\n",
    "index_v1_1_macro_groups = IndexV1_1MacroGroups()\n",
    "macro_groups = MacroGroups()\n",
    "\n",
    "index_v1_1_macro_groups.type_groups\n",
    "macro_groups.type_groups"
   ]
  },
  {
   "cell_type": "code",
   "execution_count": 68,
   "metadata": {},
   "outputs": [
    {
     "data": {
      "text/html": [
       "<div><style>\n",
       ".dataframe > thead > tr,\n",
       ".dataframe > tbody > tr {\n",
       "  text-align: right;\n",
       "  white-space: pre-wrap;\n",
       "}\n",
       "</style>\n",
       "<small>shape: (50_520,)</small><table border=\"1\" class=\"dataframe\"><thead><tr><th>communication - SDG 8</th></tr><tr><td>i64</td></tr></thead><tbody><tr><td>0</td></tr><tr><td>0</td></tr><tr><td>0</td></tr><tr><td>1</td></tr><tr><td>0</td></tr><tr><td>&hellip;</td></tr><tr><td>1</td></tr><tr><td>0</td></tr><tr><td>0</td></tr><tr><td>0</td></tr><tr><td>0</td></tr></tbody></table></div>"
      ],
      "text/plain": [
       "shape: (50_520,)\n",
       "Series: 'communication - SDG 8' [i64]\n",
       "[\n",
       "\t0\n",
       "\t0\n",
       "\t0\n",
       "\t1\n",
       "\t0\n",
       "\t…\n",
       "\t1\n",
       "\t0\n",
       "\t0\n",
       "\t0\n",
       "\t0\n",
       "]"
      ]
     },
     "execution_count": 68,
     "metadata": {},
     "output_type": "execute_result"
    }
   ],
   "source": [
    "lc_dataset[\"communication - SDG 8\"]"
   ]
  },
  {
   "cell_type": "code",
   "execution_count": 64,
   "metadata": {},
   "outputs": [
    {
     "data": {
      "text/plain": [
       "{'People': ['SDG 1', 'SDG 2', 'SDG 3', 'SDG 4', 'SDG 5', 'SDG 10'],\n",
       " 'Planet': ['SDG 6', 'SDG 7', 'SDG 12', 'SDG 13', 'SDG 14', 'SDG 15'],\n",
       " 'Prosperity': ['SDG 8', 'SDG 9', 'SDG 11', 'SDG 16', 'SDG 17']}"
      ]
     },
     "execution_count": 64,
     "metadata": {},
     "output_type": "execute_result"
    }
   ],
   "source": [
    "macro_groups.sdg_groups"
   ]
  },
  {
   "cell_type": "code",
   "execution_count": 66,
   "metadata": {},
   "outputs": [
    {
     "data": {
      "text/html": [
       "<div><style>\n",
       ".dataframe > thead > tr,\n",
       ".dataframe > tbody > tr {\n",
       "  text-align: right;\n",
       "  white-space: pre-wrap;\n",
       "}\n",
       "</style>\n",
       "<small>shape: (50_520, 20)</small><table border=\"1\" class=\"dataframe\"><thead><tr><th>conml</th><th>rfyear</th><th>Advocacy</th><th>Measurement</th><th>Upskilling</th><th>Adaptation</th><th>Innovation</th><th>People</th><th>Planet</th><th>Prosperity</th><th>GICS_level_1</th><th>People_zscore</th><th>Planet_zscore</th><th>Prosperity_zscore</th><th>Advocacy_zscore</th><th>Measurement_zscore</th><th>Upskilling_zscore</th><th>Adaptation_zscore</th><th>Innovation_zscore</th><th>lc_index</th></tr><tr><td>str</td><td>i64</td><td>i64</td><td>i64</td><td>i64</td><td>i64</td><td>i64</td><td>i64</td><td>i64</td><td>i64</td><td>str</td><td>f64</td><td>f64</td><td>f64</td><td>f64</td><td>f64</td><td>f64</td><td>f64</td><td>f64</td><td>f64</td></tr></thead><tbody><tr><td>&quot;Honeywell International Inc&quot;</td><td>2024</td><td>26</td><td>6</td><td>18</td><td>14</td><td>0</td><td>13</td><td>13</td><td>6</td><td>&quot;Industrials&quot;</td><td>0.826083</td><td>0.975301</td><td>0.411232</td><td>0.753471</td><td>1.128319</td><td>0.955276</td><td>0.779565</td><td>-0.45363</td><td>-1.207101</td></tr><tr><td>&quot;Block H&amp;R Inc&quot;</td><td>2024</td><td>36</td><td>6</td><td>24</td><td>8</td><td>2</td><td>19</td><td>10</td><td>9</td><td>&quot;Consumer Discretionary&quot;</td><td>1.118957</td><td>0.217788</td><td>0.936473</td><td>0.867302</td><td>0.608067</td><td>1.341891</td><td>-0.056559</td><td>0.041054</td><td>-0.826248</td></tr><tr><td>&quot;The Boeing Company&quot;</td><td>2024</td><td>48</td><td>0</td><td>12</td><td>10</td><td>0</td><td>20</td><td>5</td><td>10</td><td>&quot;Industrials&quot;</td><td>1.703124</td><td>-0.0927</td><td>1.21579</td><td>2.059153</td><td>-0.555574</td><td>0.368086</td><td>0.333843</td><td>-0.45363</td><td>-2.512784</td></tr><tr><td>&quot;Coherent Corp&quot;</td><td>2024</td><td>18</td><td>4</td><td>22</td><td>22</td><td>0</td><td>12</td><td>15</td><td>6</td><td>&quot;Information Technology&quot;</td><td>0.552653</td><td>1.068957</td><td>0.424974</td><td>0.21219</td><td>0.391795</td><td>1.191594</td><td>1.557144</td><td>-0.425199</td><td>-0.637388</td></tr><tr><td>&quot;Comcast Corp&quot;</td><td>2024</td><td>28</td><td>0</td><td>10</td><td>2</td><td>2</td><td>12</td><td>6</td><td>3</td><td>&quot;Communication Services&quot;</td><td>-0.025692</td><td>-0.041617</td><td>-0.382198</td><td>0.071521</td><td>-0.535428</td><td>-0.039458</td><td>-0.565667</td><td>-0.125644</td><td>-0.197165</td></tr><tr><td>&hellip;</td><td>&hellip;</td><td>&hellip;</td><td>&hellip;</td><td>&hellip;</td><td>&hellip;</td><td>&hellip;</td><td>&hellip;</td><td>&hellip;</td><td>&hellip;</td><td>&hellip;</td><td>&hellip;</td><td>&hellip;</td><td>&hellip;</td><td>&hellip;</td><td>&hellip;</td><td>&hellip;</td><td>&hellip;</td><td>&hellip;</td><td>&hellip;</td></tr><tr><td>&quot;POET Technologies Inc&quot;</td><td>1991</td><td>8</td><td>2</td><td>0</td><td>2</td><td>0</td><td>3</td><td>2</td><td>1</td><td>&quot;Information Technology&quot;</td><td>-0.5059</td><td>-0.456043</td><td>-0.608479</td><td>-0.369892</td><td>-0.086155</td><td>-0.834224</td><td>-0.541215</td><td>-0.425199</td><td>-0.055307</td></tr><tr><td>&quot;Ajinomoto Co Inc&quot;</td><td>1990</td><td>8</td><td>0</td><td>2</td><td>8</td><td>2</td><td>6</td><td>3</td><td>1</td><td>&quot;Consumer Staples&quot;</td><td>-0.391418</td><td>-0.543129</td><td>-0.54674</td><td>-0.550972</td><td>-0.56641</td><td>-0.639262</td><td>-0.18051</td><td>-0.115605</td><td>0.435367</td></tr><tr><td>&quot;NOCIL Ltd&quot;</td><td>1990</td><td>6</td><td>0</td><td>0</td><td>0</td><td>0</td><td>0</td><td>3</td><td>0</td><td>&quot;Materials&quot;</td><td>-1.004595</td><td>-0.508993</td><td>-0.931844</td><td>-0.604831</td><td>-0.686596</td><td>-0.948282</td><td>-0.931533</td><td>-0.531816</td><td>0.073016</td></tr><tr><td>&quot;Vale SA&quot;</td><td>1990</td><td>6</td><td>0</td><td>0</td><td>0</td><td>0</td><td>0</td><td>3</td><td>0</td><td>&quot;Materials&quot;</td><td>-1.004595</td><td>-0.508993</td><td>-0.931844</td><td>-0.604831</td><td>-0.686596</td><td>-0.948282</td><td>-0.931533</td><td>-0.531816</td><td>0.073016</td></tr><tr><td>&quot;Adani Transmission Ltd&quot;</td><td>1990</td><td>16</td><td>0</td><td>10</td><td>0</td><td>0</td><td>11</td><td>2</td><td>0</td><td>&quot;Utilities&quot;</td><td>0.361972</td><td>-0.708362</td><td>-0.890566</td><td>-0.321312</td><td>-0.593558</td><td>-0.052396</td><td>-0.781527</td><td>-0.547856</td><td>-0.226544</td></tr></tbody></table></div>"
      ],
      "text/plain": [
       "shape: (50_520, 20)\n",
       "┌────────────┬────────┬──────────┬────────────┬───┬────────────┬───────────┬───────────┬───────────┐\n",
       "│ conml      ┆ rfyear ┆ Advocacy ┆ Measuremen ┆ … ┆ Upskilling ┆ Adaptatio ┆ Innovatio ┆ lc_index  │\n",
       "│ ---        ┆ ---    ┆ ---      ┆ t          ┆   ┆ _zscore    ┆ n_zscore  ┆ n_zscore  ┆ ---       │\n",
       "│ str        ┆ i64    ┆ i64      ┆ ---        ┆   ┆ ---        ┆ ---       ┆ ---       ┆ f64       │\n",
       "│            ┆        ┆          ┆ i64        ┆   ┆ f64        ┆ f64       ┆ f64       ┆           │\n",
       "╞════════════╪════════╪══════════╪════════════╪═══╪════════════╪═══════════╪═══════════╪═══════════╡\n",
       "│ Honeywell  ┆ 2024   ┆ 26       ┆ 6          ┆ … ┆ 0.955276   ┆ 0.779565  ┆ -0.45363  ┆ -1.207101 │\n",
       "│ Internatio ┆        ┆          ┆            ┆   ┆            ┆           ┆           ┆           │\n",
       "│ nal Inc    ┆        ┆          ┆            ┆   ┆            ┆           ┆           ┆           │\n",
       "│ Block H&R  ┆ 2024   ┆ 36       ┆ 6          ┆ … ┆ 1.341891   ┆ -0.056559 ┆ 0.041054  ┆ -0.826248 │\n",
       "│ Inc        ┆        ┆          ┆            ┆   ┆            ┆           ┆           ┆           │\n",
       "│ The Boeing ┆ 2024   ┆ 48       ┆ 0          ┆ … ┆ 0.368086   ┆ 0.333843  ┆ -0.45363  ┆ -2.512784 │\n",
       "│ Company    ┆        ┆          ┆            ┆   ┆            ┆           ┆           ┆           │\n",
       "│ Coherent   ┆ 2024   ┆ 18       ┆ 4          ┆ … ┆ 1.191594   ┆ 1.557144  ┆ -0.425199 ┆ -0.637388 │\n",
       "│ Corp       ┆        ┆          ┆            ┆   ┆            ┆           ┆           ┆           │\n",
       "│ Comcast    ┆ 2024   ┆ 28       ┆ 0          ┆ … ┆ -0.039458  ┆ -0.565667 ┆ -0.125644 ┆ -0.197165 │\n",
       "│ Corp       ┆        ┆          ┆            ┆   ┆            ┆           ┆           ┆           │\n",
       "│ …          ┆ …      ┆ …        ┆ …          ┆ … ┆ …          ┆ …         ┆ …         ┆ …         │\n",
       "│ POET Techn ┆ 1991   ┆ 8        ┆ 2          ┆ … ┆ -0.834224  ┆ -0.541215 ┆ -0.425199 ┆ -0.055307 │\n",
       "│ ologies    ┆        ┆          ┆            ┆   ┆            ┆           ┆           ┆           │\n",
       "│ Inc        ┆        ┆          ┆            ┆   ┆            ┆           ┆           ┆           │\n",
       "│ Ajinomoto  ┆ 1990   ┆ 8        ┆ 0          ┆ … ┆ -0.639262  ┆ -0.18051  ┆ -0.115605 ┆ 0.435367  │\n",
       "│ Co Inc     ┆        ┆          ┆            ┆   ┆            ┆           ┆           ┆           │\n",
       "│ NOCIL Ltd  ┆ 1990   ┆ 6        ┆ 0          ┆ … ┆ -0.948282  ┆ -0.931533 ┆ -0.531816 ┆ 0.073016  │\n",
       "│ Vale SA    ┆ 1990   ┆ 6        ┆ 0          ┆ … ┆ -0.948282  ┆ -0.931533 ┆ -0.531816 ┆ 0.073016  │\n",
       "│ Adani Tran ┆ 1990   ┆ 16       ┆ 0          ┆ … ┆ -0.052396  ┆ -0.781527 ┆ -0.547856 ┆ -0.226544 │\n",
       "│ smission   ┆        ┆          ┆            ┆   ┆            ┆           ┆           ┆           │\n",
       "│ Ltd        ┆        ┆          ┆            ┆   ┆            ┆           ┆           ┆           │\n",
       "└────────────┴────────┴──────────┴────────────┴───┴────────────┴───────────┴───────────┴───────────┘"
      ]
     },
     "execution_count": 66,
     "metadata": {},
     "output_type": "execute_result"
    }
   ],
   "source": [
    "lc_dataset.select(\n",
    "    \"conml\",\n",
    "    \"rfyear\",\n",
    "    *macro_groups.type_groups_expressions,\n",
    "    *macro_groups.sdg_groups_expressions,\n",
    "    \"GICS_level_1\",\n",
    ").with_columns(macro_groups.get_zscore_expressions(\"GICS_level_1\")).with_columns(\n",
    "    macro_groups.index_expr\n",
    ")"
   ]
  },
  {
   "cell_type": "markdown",
   "metadata": {},
   "source": [
    "# Text of Initiatives"
   ]
  },
  {
   "cell_type": "code",
   "execution_count": null,
   "metadata": {},
   "outputs": [],
   "source": []
  }
 ],
 "metadata": {
  "kernelspec": {
   "display_name": ".venv",
   "language": "python",
   "name": "python3"
  },
  "language_info": {
   "codemirror_mode": {
    "name": "ipython",
    "version": 3
   },
   "file_extension": ".py",
   "mimetype": "text/x-python",
   "name": "python",
   "nbconvert_exporter": "python",
   "pygments_lexer": "ipython3",
   "version": "3.13.0"
  }
 },
 "nbformat": 4,
 "nbformat_minor": 2
}
